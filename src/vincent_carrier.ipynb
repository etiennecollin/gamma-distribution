{
 "cells": [
  {
   "cell_type": "code",
   "execution_count": null,
   "metadata": {},
   "outputs": [],
   "source": [
    "import math\n",
    "import numpy as np\n",
    "import matplotlib.pyplot as plt\n",
    "from scipy.stats import gamma\n",
    "import itertools"
   ]
  },
  {
   "cell_type": "code",
   "execution_count": null,
   "metadata": {},
   "outputs": [],
   "source": [
    "def gamma_distribution_smallF():\n",
    "\t# vector of values for x: x=(0.00,0.01,0.02,0.03, ... ,5.00)\n",
    "\tx = np.linspace(0, 25, 10000)\n",
    "\t# vector of the corresponding values of f(x) if X ~ Gamma(4,3)\n",
    "\tfx = (((1/3)**4)/math.gamma(4)) * (x**(1/3)) * np.exp(-(1/3)*x)\n",
    "\t# graph of f(x) as a function of x\n",
    "\tplt.plot(x, fx)\n",
    "\tplt.show()\n",
    "\n",
    "\n",
    "gamma_distribution_smallF()\n"
   ]
  },
  {
   "cell_type": "code",
   "execution_count": null,
   "metadata": {},
   "outputs": [],
   "source": [
    "def gamma_distribution_bigF():\n",
    "\t# vector of values for x: x=(0.00,0.01,0.02,0.03, ... ,5.00)\n",
    "\tx = np.linspace(0, 25, 10000)\n",
    "\t# vector of the corresponding values of f(x) if X ~ Gamma(4,3)\n",
    "\tfx = (((1/3)**4)/math.gamma(4)) * (x**(1/3)) * np.exp(-(1/3)*x)\n",
    "\t# value of Delta x: same as gap between values in vector x\n",
    "\tdx = 0.01\n",
    "\t# vector of values of [f(x) Delta(x)]\n",
    "\tfxdx = fx * dx\n",
    "\t# vector of cumulative values of [f(x) Delta(x)]\n",
    "\tFx = np.array(list(itertools.accumulate(fxdx)))\n",
    "\t# graph of F(x) as a function of x\n",
    "\tplt.plot(x, Fx)\n",
    "\tplt.show()\n",
    "\n",
    "gamma_distribution_bigF()"
   ]
  },
  {
   "cell_type": "code",
   "execution_count": null,
   "metadata": {},
   "outputs": [],
   "source": [
    "def histogram():\n",
    "\t# x and y are vectors of 1000000 i.i.d. U(0,1) r.v.\n",
    "\tx = np.random.gamma(4, 1/3, 1000000)\n",
    "\ty = np.random.gamma(4, 1/3, 1000000)\n",
    "\t# r.v. of interest\n",
    "\tw = x + y\n",
    "\t# produces histogram\n",
    "\tplt.hist(w, bins=10000, density=True)\n",
    "\t# prints histogram\n",
    "\tplt.show()\n",
    "\n",
    "histogram()"
   ]
  },
  {
   "cell_type": "code",
   "execution_count": null,
   "metadata": {},
   "outputs": [],
   "source": [
    "def plot_gamma_k():\n",
    "\t# k : the number of events for which you are waiting to occur.\n",
    "\t# λ : the rate of events happening following Poisson dist.\n",
    "\n",
    "\tx = np.linspace(0, 50, 1000)\n",
    "\ta = 1  # k = 1\n",
    "\tmean, var, skew, kurt = gamma.stats(a, moments='mvsk')\n",
    "\ty1 = gamma.pdf(x, a)\n",
    "\ta = 5  # k = 5\n",
    "\tmean, var, skew, kurt = gamma.stats(a, moments='mvsk')\n",
    "\ty2 = gamma.pdf(x, a)\n",
    "\ta = 10  # k = 15\n",
    "\tmean, var, skew, kurt = gamma.stats(a, moments='mvsk')\n",
    "\ty3 = gamma.pdf(x, a)\n",
    "\tplt.title(\"PDF of Gamma Distribution\")\n",
    "\tplt.xlabel(\"T\")\n",
    "\tplt.ylabel(\"Probability Density\")\n",
    "\tplt.plot(x, y1, label=\"k = 1\", color='palegreen')\n",
    "\tplt.plot(x, y2, label=\"k = 5\", color='yellowgreen')\n",
    "\tplt.plot(x, y3, label=\"k = 10\", color='olivedrab')\n",
    "\tplt.legend(bbox_to_anchor=(1, 1), loc='upper right',\n",
    "\t           borderaxespad=1, fontsize=12)\n",
    "\tplt.ylim([0, 0.40])\n",
    "\tplt.xlim([0, 20])\n",
    "\tplt.show()\n",
    "\t# plt.savefig('gamma_k.png')\n",
    "\n",
    "plot_gamma_k()"
   ]
  },
  {
   "cell_type": "code",
   "execution_count": null,
   "metadata": {},
   "outputs": [],
   "source": [
    "def plot_gamma_lambda():\n",
    "\t# k : the number of events for which you are waiting to occur.\n",
    "\t# λ : the rate of events happening following Poisson dist.\n",
    "\n",
    "\ta = 10  # k = 10\n",
    "\tx = np.linspace(0, 50, 1000)\n",
    "\tlambda_ = 1\n",
    "\tmean, var, skew, kurt = gamma.stats(a, scale=1 / lambda_, moments='mvsk')\n",
    "\ty1 = gamma.pdf(x, a, scale=1 / lambda_)\n",
    "\tlambda_ = 2\n",
    "\tmean, var, skew, kurt = gamma.stats(a, scale=1 / lambda_, moments='mvsk')\n",
    "\ty2 = gamma.pdf(x, a, scale=1 / lambda_)\n",
    "\tlambda_ = 3\n",
    "\tmean, var, skew, kurt = gamma.stats(a, scale=1 / lambda_, moments='mvsk')\n",
    "\ty3 = gamma.pdf(x, a, scale=1 / lambda_)\n",
    "\tplt.title(\"PDF of Gamma Distribution (k = 10)\")\n",
    "\tplt.xlabel(\"T\")\n",
    "\tplt.ylabel(\"Probability Density\")\n",
    "\tplt.plot(x, y1, label=\"λ = 1\", color='gold')\n",
    "\tplt.plot(x, y2, label=\"λ = 2\", color='burlywood')\n",
    "\tplt.plot(x, y3, label=\"λ = 3\", color='darkorange')\n",
    "\tplt.legend(bbox_to_anchor=(1, 1), loc='upper right',\n",
    "\t           borderaxespad=1, fontsize=12)\n",
    "\tplt.ylim([0, 0.40])\n",
    "\tplt.xlim([0, 20])\n",
    "\tplt.show()\n",
    "\t# plt.savefig('gamma_lambda.png')\n",
    "\n",
    "plot_gamma_lambda()"
   ]
  },
  {
   "cell_type": "code",
   "execution_count": null,
   "metadata": {},
   "outputs": [],
   "source": []
  }
 ],
 "metadata": {
  "interpreter": {
   "hash": "2df9815f35b4e4649def5231d2200eb165c9fd9ecc92d9bf8419c0b3618b463d"
  },
  "kernelspec": {
   "display_name": "Python 3.9.12 ('venv_mac': venv)",
   "language": "python",
   "name": "python3"
  },
  "language_info": {
   "codemirror_mode": {
    "name": "ipython",
    "version": 3
   },
   "file_extension": ".py",
   "mimetype": "text/x-python",
   "name": "python",
   "nbconvert_exporter": "python",
   "pygments_lexer": "ipython3",
   "version": "3.9.12"
  },
  "orig_nbformat": 4
 },
 "nbformat": 4,
 "nbformat_minor": 2
}
