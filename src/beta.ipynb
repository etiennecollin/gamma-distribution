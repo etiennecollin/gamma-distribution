{
 "cells": [
  {
   "cell_type": "code",
   "execution_count": null,
   "metadata": {},
   "outputs": [],
   "source": [
    "import numpy as np\n",
    "from scipy.stats import beta\n",
    "import matplotlib.pyplot as plt\n",
    "\n",
    "plt.rcParams['figure.figsize'] = [10, 7]"
   ]
  },
  {
   "cell_type": "code",
   "execution_count": null,
   "metadata": {},
   "outputs": [],
   "source": [
    "def bell_shape():\n",
    "\tx = np.linspace(0, 1, 10000)\n",
    "\ty1 = beta.pdf(x, 2, 8)\n",
    "\ty2 = beta.pdf(x, 5, 5)\n",
    "\ty3 = beta.pdf(x, 8, 2)\n",
    "\n",
    "\tplt.title(\"PDF of Beta (Bell-shape)\", fontsize=20)\n",
    "\tplt.xlabel(\"X\", fontsize=16)\n",
    "\tplt.ylabel(\"Probability Density\", fontsize=16)\n",
    "\tplt.plot(x, y1, linewidth=3, color='firebrick')\n",
    "\tplt.annotate(\"Beta(2,8)\", xy=(0.15, 3.7), size=14,\n",
    "\t             ha='center', va='center', color='firebrick')\n",
    "\tplt.plot(x, y2, linewidth=3, color='burlywood')\n",
    "\tplt.annotate(\"Beta(5,5)\", xy=(0.5, 2.6), size=14,\n",
    "\t             ha='center', va='center', color='burlywood')\n",
    "\tplt.plot(x, y3, linewidth=3, color='dodgerblue')\n",
    "\tplt.annotate(\"Beta(8,2)\", xy=(0.85, 3.7), size=14,\n",
    "\t             ha='center', va='center', color='dodgerblue')\n",
    "\tplt.ylim([0, 4])\n",
    "\tplt.xlim([0, 1])\n",
    "\tplt.show()\n",
    "\n",
    "bell_shape()"
   ]
  },
  {
   "cell_type": "code",
   "execution_count": null,
   "metadata": {},
   "outputs": [],
   "source": [
    "def straight_lines():\n",
    "\tx = np.linspace(0, 1, 10000)\n",
    "\ty1 = beta.pdf(x, 1, 2)\n",
    "\ty2 = beta.pdf(x, 1, 1)\n",
    "\ty3 = beta.pdf(x, 2, 1)\n",
    "\n",
    "\tplt.title(\"PDF of Beta (Straight lines)\", fontsize=20)\n",
    "\tplt.xlabel(\"X\", fontsize=16)\n",
    "\tplt.ylabel(\"Probability Density\", fontsize=16)\n",
    "\tplt.plot(x, y1, linewidth=3, color='firebrick')\n",
    "\tplt.annotate(\"Beta(1,2)\", xy=(0.88, 0.45), size=14,\n",
    "\t             ha='center', va='center', color='firebrick')\n",
    "\tplt.plot(x, y2, linewidth=3, color='burlywood')\n",
    "\tplt.annotate(\"Beta(1,1)\", xy=(0.88, 1.15), size=14,\n",
    "\t             ha='center', va='center', color='burlywood')\n",
    "\tplt.plot(x, y3, linewidth=3, color='dodgerblue')\n",
    "\tplt.annotate(\"Beta(2,1)\", xy=(0.88, 2.0), size=14,\n",
    "\t             ha='center', va='center', color='dodgerblue')\n",
    "\tplt.ylim([0, 4])\n",
    "\tplt.xlim([0, 1])\n",
    "\tplt.show()\n",
    "\n",
    "straight_lines()"
   ]
  },
  {
   "cell_type": "code",
   "execution_count": null,
   "metadata": {},
   "outputs": [],
   "source": [
    "def u_shape():\n",
    "\tx = np.linspace(0, 1, 10000)\n",
    "\ty1 = beta.pdf(x, 0.2, 0.8)\n",
    "\ty2 = beta.pdf(x, 0.5, 0.5)\n",
    "\ty3 = beta.pdf(x, 0.8, 0.2)\n",
    "\n",
    "\tplt.title(\"PDF of Beta (U-shape)\", fontsize=20)\n",
    "\tplt.xlabel(\"X\", fontsize=16)\n",
    "\tplt.ylabel(\"Probability Density\", fontsize=16)\n",
    "\tplt.plot(x, y1, linewidth=3, color='firebrick')\n",
    "\tplt.annotate(\"Beta(0.2,0.8)\", xy=(0.85, 0.45), size=14,\n",
    "\t             ha='center', va='center', color='firebrick')\n",
    "\tplt.plot(x, y2, linewidth=3, color='burlywood')\n",
    "\tplt.annotate(\"Beta(0.5,0.5)\", xy=(0.5, 0.88), size=14,\n",
    "\t             ha='center', va='center', color='burlywood')\n",
    "\tplt.plot(x, y3, linewidth=3, color='dodgerblue')\n",
    "\tplt.annotate(\"Beta(0.8,0.2)\", xy=(0.15, 0.45), size=14,\n",
    "\t             ha='center', va='center', color='dodgerblue')\n",
    "\tplt.ylim([0, 4])\n",
    "\tplt.xlim([0, 1])\n",
    "\tplt.show()\n",
    "\n",
    "u_shape()"
   ]
  },
  {
   "cell_type": "code",
   "execution_count": null,
   "metadata": {},
   "outputs": [],
   "source": []
  }
 ],
 "metadata": {
  "interpreter": {
   "hash": "258a73f1c669c2347e4e02ca349ba9be5513ea940fd96db1ccad27dbf575ba85"
  },
  "kernelspec": {
   "display_name": "Python 3.9.12 64-bit",
   "language": "python",
   "name": "python3"
  },
  "language_info": {
   "name": "python",
   "version": "3.9.12"
  },
  "orig_nbformat": 4
 },
 "nbformat": 4,
 "nbformat_minor": 2
}
